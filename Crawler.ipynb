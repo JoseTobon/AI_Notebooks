{
 "cells": [
  {
   "cell_type": "markdown",
   "id": "a09fdce3",
   "metadata": {},
   "source": [
    "# Web screenshot crawler\n",
    "\n",
    "## Selenium setup"
   ]
  },
  {
   "cell_type": "code",
   "execution_count": null,
   "id": "232a6d5b",
   "metadata": {},
   "outputs": [],
   "source": [
    "!pip install selenium\n",
    "!apt-get update # to update ubuntu to correctly run apt install\n",
    "!apt install chromium-chromedriver\n",
    "!cp /usr/lib/chromium-browser/chromedriver /usr/bin\n",
    "\n",
    "from selenium import webdriver\n",
    "\n",
    "# Setup Selenium WebDriver\n",
    "options = webdriver.ChromeOptions()\n",
    "options.add_argument('--headless')\n",
    "options.add_argument('--no-sandbox')\n",
    "options.add_argument('--disable-dev-shm-usage')\n",
    "driver = webdriver.Chrome('chromedriver', options=options)"
   ]
  },
  {
   "cell_type": "markdown",
   "id": "68f23d97",
   "metadata": {},
   "source": [
    "## List of websites"
   ]
  },
  {
   "cell_type": "code",
   "execution_count": null,
   "id": "330795ef",
   "metadata": {},
   "outputs": [],
   "source": [
    "urls = [\n",
    "    \"https://www.nytimes.com/es/\",\n",
    "    \"https://www.bbc.com/mundo\",\n",
    "    \"https://www.nbc.com/?lang=es\"\n",
    "]\n"
   ]
  },
  {
   "cell_type": "markdown",
   "id": "7dd7281d",
   "metadata": {},
   "source": [
    "## OneDrive Access"
   ]
  },
  {
   "cell_type": "code",
   "execution_count": null,
   "id": "ad6b59ea",
   "metadata": {},
   "outputs": [],
   "source": [
    "!pip install msal\n",
    "from msal import PublicClientApplication\n",
    "\n",
    "client_id = 'your-client-id'\n",
    "tenant_id = 'your-tenant-id'\n",
    "authority_url = 'https://login.microsoftonline.com/' + tenant_id\n",
    "client_secret = 'your-client-secret'\n",
    "\n",
    "app = PublicClientApplication(client_id, authority=authority_url, client_credential=client_secret)\n",
    "\n",
    "token_response = app.acquire_token_for_client(scopes=[\"https://graph.microsoft.com/.default\"])\n",
    "access_token = token_response['access_token']\n"
   ]
  },
  {
   "cell_type": "markdown",
   "id": "486c13e7",
   "metadata": {},
   "source": [
    "## Screenshots and OneDrive Upload"
   ]
  },
  {
   "cell_type": "code",
   "execution_count": null,
   "id": "4463cf63",
   "metadata": {},
   "outputs": [],
   "source": [
    "import requests\n",
    "\n",
    "def upload_to_onedrive(access_token, file_path, file_name):\n",
    "    headers = {\n",
    "        \"Authorization\": \"Bearer \" + access_token,\n",
    "        \"Content-Type\": \"application/octet-stream\"\n",
    "    }\n",
    "    graph_endpoint = f'https://graph.microsoft.com/v1.0/me/drive/root:/Screenshots/{file_name}:/content'\n",
    "    with open(file_path, \"rb\") as f:\n",
    "        data = f.read()\n",
    "    response = requests.put(graph_endpoint, headers=headers, data=data)\n",
    "    print(response.json())\n",
    "\n",
    "# Loop through URLs, take screenshots, and upload\n",
    "for i, url in enumerate(urls):\n",
    "    try:\n",
    "        driver.get(url)\n",
    "        screenshot_path = f\"/content/screenshot_{i}.png\"\n",
    "        driver.save_screenshot(screenshot_path)\n",
    "        upload_to_onedrive(access_token, screenshot_path, f\"screenshot_{i}.png\")\n",
    "    except Exception as e:\n",
    "        print(f\"Failed to process {url}: {str(e)}\")\n",
    "\n",
    "driver.quit()\n"
   ]
  }
 ],
 "metadata": {
  "kernelspec": {
   "display_name": "Python 3 (ipykernel)",
   "language": "python",
   "name": "python3"
  },
  "language_info": {
   "codemirror_mode": {
    "name": "ipython",
    "version": 3
   },
   "file_extension": ".py",
   "mimetype": "text/x-python",
   "name": "python",
   "nbconvert_exporter": "python",
   "pygments_lexer": "ipython3",
   "version": "3.11.7"
  }
 },
 "nbformat": 4,
 "nbformat_minor": 5
}
